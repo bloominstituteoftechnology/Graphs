{
 "metadata": {
  "language_info": {
   "codemirror_mode": {
    "name": "ipython",
    "version": 3
   },
   "file_extension": ".py",
   "mimetype": "text/x-python",
   "name": "python",
   "nbconvert_exporter": "python",
   "pygments_lexer": "ipython3",
   "version": "3.7.6-final"
  },
  "orig_nbformat": 2,
  "kernelspec": {
   "name": "python_defaultSpec_1597428892387",
   "display_name": "Python 3.7.6 64-bit ('base': conda)"
  }
 },
 "nbformat": 4,
 "nbformat_minor": 2,
 "cells": [
  {
   "cell_type": "code",
   "execution_count": 1,
   "metadata": {
    "tags": []
   },
   "outputs": [
    {
     "output_type": "stream",
     "name": "stdout",
     "text": "#####\n#                                        #\n#                002                     #\n#                 |                      #\n#                 |                      #\n#                001                     #\n#                 |                      #\n#                 |                      #\n#                000                     #\n#                                        #\n\n#####\n"
    }
   ],
   "source": [
    "# Import libraries, packages, modules, functions:\n",
    "# External\n",
    "from ast import literal_eval\n",
    "import random\n",
    "# Internal for this project:\n",
    "from room import Room\n",
    "from player import Player\n",
    "from world import World\n",
    "\n",
    "\n",
    "# -----------------------------------------------------------------------------\n",
    "# LOAD MAP:\n",
    "\n",
    "# Load world\n",
    "world = World()\n",
    "\n",
    "# You may uncomment the smaller graphs for development and testing purposes.\n",
    "map_file = \"maps/test_line.txt\"\n",
    "# map_file = \"maps/test_cross.txt\"\n",
    "# map_file = \"maps/test_loop.txt\"\n",
    "# map_file = \"maps/test_loop_fork.txt\"\n",
    "# map_file = \"maps/main_maze.txt\"\n",
    "\n",
    "# Loads the map into a dictionary\n",
    "room_graph=literal_eval(open(map_file, \"r\").read())\n",
    "world.load_graph(room_graph)\n",
    "\n",
    "# # Print an ASCII map\n",
    "world.print_rooms()"
   ]
  },
  {
   "cell_type": "code",
   "execution_count": 2,
   "metadata": {
    "tags": []
   },
   "outputs": [
    {
     "output_type": "stream",
     "name": "stdout",
     "text": "n  space  1\nOops not added yet!\n"
    },
    {
     "output_type": "error",
     "ename": "IndexError",
     "evalue": "Room 0 is already in the map!",
     "traceback": [
      "\u001b[0;31m---------------------------------------------------------------------------\u001b[0m",
      "\u001b[0;31mIndexError\u001b[0m                                Traceback (most recent call last)",
      "\u001b[0;32m<ipython-input-2-8226f57740a6>\u001b[0m in \u001b[0;36m<module>\u001b[0;34m\u001b[0m\n\u001b[1;32m     58\u001b[0m         \u001b[0mneighbors\u001b[0m \u001b[0;34m=\u001b[0m \u001b[0;34m{\u001b[0m\u001b[0mdirection\u001b[0m\u001b[0;34m:\u001b[0m\u001b[0mcurrent_room\u001b[0m\u001b[0;34m.\u001b[0m\u001b[0mget_room_in_direction\u001b[0m\u001b[0;34m(\u001b[0m\u001b[0mdirection\u001b[0m\u001b[0;34m)\u001b[0m\u001b[0;34m.\u001b[0m\u001b[0mid\u001b[0m \u001b[0;32mfor\u001b[0m \u001b[0mdirection\u001b[0m \u001b[0;32min\u001b[0m \u001b[0mcurrent_room\u001b[0m\u001b[0;34m.\u001b[0m\u001b[0mget_exits\u001b[0m\u001b[0;34m(\u001b[0m\u001b[0;34m)\u001b[0m\u001b[0;34m}\u001b[0m\u001b[0;34m\u001b[0m\u001b[0;34m\u001b[0m\u001b[0m\n\u001b[1;32m     59\u001b[0m \u001b[0;34m\u001b[0m\u001b[0m\n\u001b[0;32m---> 60\u001b[0;31m         \u001b[0mmap\u001b[0m\u001b[0;34m.\u001b[0m\u001b[0madd_room\u001b[0m\u001b[0;34m(\u001b[0m\u001b[0mroom_id\u001b[0m\u001b[0;34m=\u001b[0m\u001b[0mcurrent_room\u001b[0m\u001b[0;34m.\u001b[0m\u001b[0mid\u001b[0m\u001b[0;34m,\u001b[0m \u001b[0mneighbors\u001b[0m\u001b[0;34m=\u001b[0m\u001b[0mneighbors\u001b[0m\u001b[0;34m)\u001b[0m\u001b[0;34m\u001b[0m\u001b[0;34m\u001b[0m\u001b[0m\n\u001b[0m\u001b[1;32m     61\u001b[0m \u001b[0;34m\u001b[0m\u001b[0m\n\u001b[1;32m     62\u001b[0m         \u001b[0;32mfor\u001b[0m \u001b[0mroom\u001b[0m \u001b[0;32min\u001b[0m \u001b[0mneighbors\u001b[0m\u001b[0;34m.\u001b[0m\u001b[0mvalues\u001b[0m\u001b[0;34m(\u001b[0m\u001b[0;34m)\u001b[0m\u001b[0;34m:\u001b[0m\u001b[0;34m\u001b[0m\u001b[0;34m\u001b[0m\u001b[0m\n",
      "\u001b[0;32m~/Documents - LSDS Lambda School/LSDS-Computer-Science-CS/Graphs/projects/adventure/map.py\u001b[0m in \u001b[0;36madd_room\u001b[0;34m(self, room_id, neighbors)\u001b[0m\n\u001b[1;32m     30\u001b[0m                 \u001b[0mself\u001b[0m\u001b[0;34m.\u001b[0m\u001b[0mrooms\u001b[0m\u001b[0;34m[\u001b[0m\u001b[0mroom_id\u001b[0m\u001b[0;34m]\u001b[0m \u001b[0;34m=\u001b[0m \u001b[0mneighbors\u001b[0m\u001b[0;34m\u001b[0m\u001b[0;34m\u001b[0m\u001b[0m\n\u001b[1;32m     31\u001b[0m         \u001b[0;32melse\u001b[0m\u001b[0;34m:\u001b[0m\u001b[0;34m\u001b[0m\u001b[0;34m\u001b[0m\u001b[0m\n\u001b[0;32m---> 32\u001b[0;31m             \u001b[0;32mraise\u001b[0m \u001b[0mIndexError\u001b[0m\u001b[0;34m(\u001b[0m\u001b[0;34mf\"Room {room_id} is already in the map!\"\u001b[0m\u001b[0;34m)\u001b[0m\u001b[0;34m\u001b[0m\u001b[0;34m\u001b[0m\u001b[0m\n\u001b[0m\u001b[1;32m     33\u001b[0m \u001b[0;34m\u001b[0m\u001b[0m\n\u001b[1;32m     34\u001b[0m     \u001b[0;32mdef\u001b[0m \u001b[0madd_neighbors\u001b[0m\u001b[0;34m(\u001b[0m\u001b[0mself\u001b[0m\u001b[0;34m,\u001b[0m \u001b[0mroom_id\u001b[0m\u001b[0;34m,\u001b[0m \u001b[0mneighbors\u001b[0m\u001b[0;34m)\u001b[0m\u001b[0;34m:\u001b[0m\u001b[0;34m\u001b[0m\u001b[0;34m\u001b[0m\u001b[0m\n",
      "\u001b[0;31mIndexError\u001b[0m: Room 0 is already in the map!"
     ]
    }
   ],
   "source": [
    "from data_structures import Stack\n",
    "from map import Map\n",
    "\n",
    "# Import libraries, packages, modules, classes/functions:\n",
    "from data_structures import Stack, Queue\n",
    "from numpy import NaN\n",
    "\n",
    "# Fixed constants:\n",
    "directions = [\"n\", \"s\", \"w\", \"e\"]\n",
    "opposite_direction = {\"n\": \"s\", \"s\": \"n\", \"w\": \"e\", \"e\": \"w\"}\n",
    "\n",
    "\n",
    "# -----------------------------------------------------------------------------\n",
    "# TRAVERSAL: Traverse all of the rooms:\n",
    "\n",
    "# Initialize traversal path as empty list (no rooms visited yet):\n",
    "traversal_path = []  # traversal_path = ['n', 'n']\n",
    "\n",
    "# Initialize player, and put player in starting_room:\n",
    "player = Player(world.starting_room)\n",
    "\n",
    "#DFT:\n",
    "\n",
    "map = Map()\n",
    "\n",
    "# Initialize stack:\n",
    "rooms_to_visit = Stack()\n",
    "\n",
    "current_room = player.current_room\n",
    "\n",
    "rooms_to_visit.push(current_room.id)\n",
    "\n",
    "# ---------------------------------------\n",
    "# ??\n",
    "while rooms_to_visit.size() > 0:\n",
    "    # Get nearest room that is not yet visited from stack:\n",
    "    next_room_id = rooms_to_visit.pop()\n",
    "\n",
    "    # If the current room has not already been visited+processed, visit and process it:\n",
    "    if next_room_id not in map.rooms:\n",
    "        # Travel to current room (if not already in that room):\n",
    "        if player.current_room.id is not next_room_id:\n",
    "            for direction in neighbors:\n",
    "                if neighbors[direction] == next_room_id:\n",
    "                    direction = direction\n",
    "            # ??\n",
    "            player.travel(direction=direction, show_rooms=True)\n",
    "\n",
    "            # (How -- 2 different stacks for immediate retracing route vs. rooms to visit??)\n",
    "\n",
    "            # Add the direction you traveled to traversal_path:\n",
    "            traversal_path.append(direction)\n",
    "\n",
    "            # Mark that connection for both rooms (prev and new) with add_edge on our map\n",
    "        \n",
    "        current_room = player.current_room\n",
    "\n",
    "        neighbors = {direction:current_room.get_room_in_direction(direction).id for direction in current_room.get_exits()}\n",
    "\n",
    "        map.add_room(room_id=current_room.id, neighbors=neighbors)\n",
    "\n",
    "        for room in neighbors.values():\n",
    "            rooms_to_visit.push(room)"
   ]
  },
  {
   "cell_type": "code",
   "execution_count": 15,
   "metadata": {
    "tags": []
   },
   "outputs": [
    {
     "output_type": "stream",
     "name": "stdout",
     "text": "Map (graph) of rooms: {0: {'n': 1}}\nStack (LIFO): []\n"
    }
   ],
   "source": [
    "    # print(current_room)\n",
    "    # print(neighbors)\n",
    "    print(map)\n",
    "    print(rooms_to_visit)"
   ]
  },
  {
   "cell_type": "code",
   "execution_count": null,
   "metadata": {},
   "outputs": [],
   "source": [
    "\n",
    "# current_room_id = rooms_to_visit.pop()\n",
    "\n",
    "# # travel to room (already in room)\n",
    "\n",
    "# neighbors = {direction:current_room_object.get_room_in_direction(direction).id for direction in current_room_object.get_exits()}\n",
    "\n",
    "# map.add_room(current_room)\n",
    "\n",
    "# for room_id in neighbors.values():\n",
    "#     rooms_to_visit.push(room_id)\n",
    "\n",
    "# while rooms_to_visit.size() > 0:\n",
    "#     # Get nearest room that is not yet visited from stack:\n",
    "#     current_room = rooms_to_visit.pop()\n",
    "\n",
    "#     # If the current room has not already been visited+processed, visit and process it:\n",
    "#     if current_room not in map.rooms:\n",
    "#         # Travel to current room (if not already in that room):\n",
    "#         # (How -- 2 different stacks for immediate retracing route vs. rooms to visit??)\n",
    "\n",
    "#         # Add the direction you traveled to traversal_path\n",
    "\n",
    "#         # Mark that connection for both rooms (prev and new) with add_edge on our map\n",
    "\n",
    "#         # Add other not-yet-visited neighbors (of room_a) to our rooms_to_visit stack\n",
    "\n",
    "#         # Add current room to map (which also marks it as visited):\n",
    "#         map.add_room(current_room)\n",
    "\n",
    "#         # Get surrounding rooms\n",
    "#         # Add surrounding rooms (that we have not visited yet) to our rooms_to_visit stack       "
   ]
  },
  {
   "cell_type": "code",
   "execution_count": 17,
   "metadata": {},
   "outputs": [
    {
     "output_type": "execute_result",
     "data": {
      "text/plain": "{}"
     },
     "metadata": {},
     "execution_count": 17
    }
   ],
   "source": [
    "map.rooms"
   ]
  },
  {
   "cell_type": "code",
   "execution_count": 15,
   "metadata": {},
   "outputs": [
    {
     "output_type": "execute_result",
     "data": {
      "text/plain": "{0: <room.Room at 0x7faf3a363dd0>,\n 1: <room.Room at 0x7faf3a39a150>,\n 2: <room.Room at 0x7faf3a39a2d0>}"
     },
     "metadata": {},
     "execution_count": 15
    }
   ],
   "source": [
    "world.rooms"
   ]
  },
  {
   "cell_type": "code",
   "execution_count": null,
   "metadata": {},
   "outputs": [],
   "source": [
    "print(rooms_to_visit)"
   ]
  },
  {
   "cell_type": "code",
   "execution_count": null,
   "metadata": {},
   "outputs": [],
   "source": []
  },
  {
   "cell_type": "code",
   "execution_count": null,
   "metadata": {},
   "outputs": [],
   "source": []
  },
  {
   "cell_type": "code",
   "execution_count": null,
   "metadata": {},
   "outputs": [],
   "source": []
  },
  {
   "cell_type": "code",
   "execution_count": null,
   "metadata": {},
   "outputs": [],
   "source": []
  },
  {
   "cell_type": "code",
   "execution_count": 16,
   "metadata": {},
   "outputs": [
    {
     "output_type": "execute_result",
     "data": {
      "text/plain": "{0: <room.Room at 0x7fad017b4f90>,\n 1: <room.Room at 0x7facfe9c99d0>,\n 2: <room.Room at 0x7facfe9c9b50>}"
     },
     "metadata": {},
     "execution_count": 16
    }
   ],
   "source": [
    "world.rooms"
   ]
  },
  {
   "cell_type": "code",
   "execution_count": 20,
   "metadata": {
    "tags": []
   },
   "outputs": [
    {
     "output_type": "stream",
     "name": "stdout",
     "text": "\n-------------------\n\nRoom 2\n\n   (3,7)\n\nExits: [s]\n\n"
    }
   ],
   "source": [
    "print(world.room_grid[3][-1])"
   ]
  },
  {
   "cell_type": "code",
   "execution_count": 29,
   "metadata": {
    "tags": []
   },
   "outputs": [
    {
     "output_type": "stream",
     "name": "stdout",
     "text": "\n-------------------\n\nRoom 1\n\n   (3,6)\n\nExits: [n, s]\n\n"
    }
   ],
   "source": [
    "print(world.room_grid[3][-1].get_room_in_direction(\"s\"))"
   ]
  },
  {
   "cell_type": "code",
   "execution_count": 32,
   "metadata": {},
   "outputs": [
    {
     "output_type": "execute_result",
     "data": {
      "text/plain": "'Room 0'"
     },
     "metadata": {},
     "execution_count": 32
    }
   ],
   "source": [
    "world.starting_room.name"
   ]
  },
  {
   "cell_type": "code",
   "execution_count": 9,
   "metadata": {},
   "outputs": [
    {
     "output_type": "execute_result",
     "data": {
      "text/plain": "nan"
     },
     "metadata": {},
     "execution_count": 9
    }
   ],
   "source": []
  },
  {
   "cell_type": "code",
   "execution_count": null,
   "metadata": {},
   "outputs": [],
   "source": []
  }
 ]
}