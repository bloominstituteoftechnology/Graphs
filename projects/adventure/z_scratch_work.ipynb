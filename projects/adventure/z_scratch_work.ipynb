{
 "metadata": {
  "language_info": {
   "codemirror_mode": {
    "name": "ipython",
    "version": 3
   },
   "file_extension": ".py",
   "mimetype": "text/x-python",
   "name": "python",
   "nbconvert_exporter": "python",
   "pygments_lexer": "ipython3",
   "version": "3.7.6-final"
  },
  "orig_nbformat": 2,
  "kernelspec": {
   "name": "python_defaultSpec_1597378485106",
   "display_name": "Python 3.7.6 64-bit ('base': conda)"
  }
 },
 "nbformat": 4,
 "nbformat_minor": 2,
 "cells": [
  {
   "cell_type": "code",
   "execution_count": 13,
   "metadata": {
    "tags": []
   },
   "outputs": [
    {
     "output_type": "stream",
     "name": "stdout",
     "text": "#####\n#                                        #\n#                002                     #\n#                 |                      #\n#                 |                      #\n#                001                     #\n#                 |                      #\n#                 |                      #\n#                000                     #\n#                                        #\n\n#####\n"
    }
   ],
   "source": [
    "# Import libraries, packages, modules, functions:\n",
    "# External\n",
    "from ast import literal_eval\n",
    "import random\n",
    "# Internal for this project:\n",
    "from room import Room\n",
    "from player import Player\n",
    "from world import World\n",
    "\n",
    "\n",
    "# -----------------------------------------------------------------------------\n",
    "# LOAD MAP:\n",
    "\n",
    "# Load world\n",
    "world = World()\n",
    "\n",
    "# You may uncomment the smaller graphs for development and testing purposes.\n",
    "map_file = \"maps/test_line.txt\"\n",
    "# map_file = \"maps/test_cross.txt\"\n",
    "# map_file = \"maps/test_loop.txt\"\n",
    "# map_file = \"maps/test_loop_fork.txt\"\n",
    "# map_file = \"maps/main_maze.txt\"\n",
    "\n",
    "# Loads the map into a dictionary\n",
    "room_graph=literal_eval(open(map_file, \"r\").read())\n",
    "world.load_graph(room_graph)\n",
    "\n",
    "# # Print an ASCII map\n",
    "world.print_rooms()"
   ]
  },
  {
   "cell_type": "code",
   "execution_count": null,
   "metadata": {},
   "outputs": [],
   "source": [
    "from data_structures import Stack\n",
    "from map import Map\n",
    "\n",
    "# Import libraries, packages, modules, classes/functions:\n",
    "from data_structures import Stack, Queue\n",
    "from numpy import NaN\n",
    "\n",
    "# Fixed constants:\n",
    "directions = [\"n\", \"s\", \"w\", \"e\"]\n",
    "opposite_direction = {\"n\": \"s\", \"s\": \"n\", \"w\": \"e\", \"e\": \"w\"}\n",
    "\n",
    "\n",
    "# -----------------------------------------------------------------------------\n",
    "# TRAVERSAL: Traverse all of the rooms:\n",
    "\n",
    "# Initialize traversal path as empty list (no rooms visited yet):\n",
    "traversal_path = []  # traversal_path = ['n', 'n']\n",
    "\n",
    "# Initialize player, and put player in starting_room:\n",
    "player = Player(world.starting_room)\n",
    "\n",
    "#DFT:\n",
    "\n",
    "map = Map()\n",
    "\n",
    "# Initialize stack:\n",
    "rooms_to_visit = Stack()\n",
    "\n",
    "current_room_object = player.current_room\n",
    "current_room = current_room_object.id\n",
    "\n",
    "rooms_to_visit.push(current_room)\n",
    "\n",
    "# travel to room (already in room)\n",
    "\n",
    "\n",
    "\n",
    "\n",
    "\n",
    "# deal with chicken and egg problem of visiting first room...\n",
    "\n",
    "# while rooms_to_visit.size() > 0:\n",
    "#     # Get nearest room that is not yet visited from stack:\n",
    "#     current_room = rooms_to_visit.pop()\n",
    "\n",
    "#     # If the current room has not already been visited+processed, visit and process it:\n",
    "#     if current_room not in map.rooms:\n",
    "#         # Travel to current room:\n",
    "#         # (How -- 2 different stacks for immediate retracing route vs. rooms to visit??)\n",
    "\n",
    "#         # Add the direction you traveled to traversal_path\n",
    "\n",
    "#         # Mark that connection for both rooms (prev and new) with add_edge on our map\n",
    "\n",
    "#         # Add other not-yet-visited neighbors (of room_a) to our rooms_to_visit stack\n",
    "\n",
    "#         # Add current room to map (which also marks it as visited):\n",
    "#         map.add_room(current_room)\n",
    "\n",
    "#         # Get surrounding rooms\n",
    "#         # Add surrounding rooms (that we have not visited yet) to our rooms_to_visit stack       "
   ]
  },
  {
   "cell_type": "code",
   "execution_count": 16,
   "metadata": {},
   "outputs": [
    {
     "output_type": "execute_result",
     "data": {
      "text/plain": "{0: <room.Room at 0x7fad017b4f90>,\n 1: <room.Room at 0x7facfe9c99d0>,\n 2: <room.Room at 0x7facfe9c9b50>}"
     },
     "metadata": {},
     "execution_count": 16
    }
   ],
   "source": [
    "world.rooms"
   ]
  },
  {
   "cell_type": "code",
   "execution_count": 20,
   "metadata": {
    "tags": []
   },
   "outputs": [
    {
     "output_type": "stream",
     "name": "stdout",
     "text": "\n-------------------\n\nRoom 2\n\n   (3,7)\n\nExits: [s]\n\n"
    }
   ],
   "source": [
    "print(world.room_grid[3][-1])"
   ]
  },
  {
   "cell_type": "code",
   "execution_count": 29,
   "metadata": {
    "tags": []
   },
   "outputs": [
    {
     "output_type": "stream",
     "name": "stdout",
     "text": "\n-------------------\n\nRoom 1\n\n   (3,6)\n\nExits: [n, s]\n\n"
    }
   ],
   "source": [
    "print(world.room_grid[3][-1].get_room_in_direction(\"s\"))"
   ]
  },
  {
   "cell_type": "code",
   "execution_count": 32,
   "metadata": {},
   "outputs": [
    {
     "output_type": "execute_result",
     "data": {
      "text/plain": "'Room 0'"
     },
     "metadata": {},
     "execution_count": 32
    }
   ],
   "source": [
    "world.starting_room.name"
   ]
  },
  {
   "cell_type": "code",
   "execution_count": 9,
   "metadata": {},
   "outputs": [
    {
     "output_type": "execute_result",
     "data": {
      "text/plain": "nan"
     },
     "metadata": {},
     "execution_count": 9
    }
   ],
   "source": []
  },
  {
   "cell_type": "code",
   "execution_count": null,
   "metadata": {},
   "outputs": [],
   "source": []
  }
 ]
}