{
 "metadata": {
  "language_info": {
   "codemirror_mode": {
    "name": "ipython",
    "version": 3
   },
   "file_extension": ".py",
   "mimetype": "text/x-python",
   "name": "python",
   "nbconvert_exporter": "python",
   "pygments_lexer": "ipython3",
   "version": "3.7.6-final"
  },
  "orig_nbformat": 2,
  "kernelspec": {
   "name": "python_defaultSpec_1597428892387",
   "display_name": "Python 3.7.6 64-bit ('base': conda)"
  }
 },
 "nbformat": 4,
 "nbformat_minor": 2,
 "cells": [
  {
   "cell_type": "code",
   "execution_count": 1,
   "metadata": {
    "tags": []
   },
   "outputs": [
    {
     "output_type": "stream",
     "name": "stdout",
     "text": "#####\n#                                        #\n#                002                     #\n#                 |                      #\n#                 |                      #\n#                001                     #\n#                 |                      #\n#                 |                      #\n#                000                     #\n#                                        #\n\n#####\n"
    }
   ],
   "source": [
    "# Import libraries, packages, modules, functions:\n",
    "# External\n",
    "from ast import literal_eval\n",
    "import random\n",
    "# Internal for this project:\n",
    "from room import Room\n",
    "from player import Player\n",
    "from world import World\n",
    "\n",
    "\n",
    "# -----------------------------------------------------------------------------\n",
    "# LOAD MAP:\n",
    "\n",
    "# Load world\n",
    "world = World()\n",
    "\n",
    "# You may uncomment the smaller graphs for development and testing purposes.\n",
    "map_file = \"maps/test_line.txt\"\n",
    "# map_file = \"maps/test_cross.txt\"\n",
    "# map_file = \"maps/test_loop.txt\"\n",
    "# map_file = \"maps/test_loop_fork.txt\"\n",
    "# map_file = \"maps/main_maze.txt\"\n",
    "\n",
    "# Loads the map into a dictionary\n",
    "room_graph=literal_eval(open(map_file, \"r\").read())\n",
    "world.load_graph(room_graph)\n",
    "\n",
    "# # Print an ASCII map\n",
    "world.print_rooms()"
   ]
  },
  {
   "cell_type": "code",
   "execution_count": 2,
   "metadata": {
    "tags": []
   },
   "outputs": [
    {
     "output_type": "stream",
     "name": "stdout",
     "text": "\n-------------------\n\nRoom 1\n\n   (3,6)\n\nExits: [n, s]\n\n\n-------------------\n\nRoom 0\n\n   (3,5)\n\nExits: [n]\n\n"
    },
    {
     "output_type": "error",
     "ename": "IndexError",
     "evalue": "Room 0 is already in the map!",
     "traceback": [
      "\u001b[0;31m---------------------------------------------------------------------------\u001b[0m",
      "\u001b[0;31mIndexError\u001b[0m                                Traceback (most recent call last)",
      "\u001b[0;32m<ipython-input-2-f36e9f1cba6d>\u001b[0m in \u001b[0;36m<module>\u001b[0;34m\u001b[0m\n\u001b[1;32m     58\u001b[0m         \u001b[0mneighbors\u001b[0m \u001b[0;34m=\u001b[0m \u001b[0;34m{\u001b[0m\u001b[0mdirection\u001b[0m\u001b[0;34m:\u001b[0m\u001b[0mcurrent_room\u001b[0m\u001b[0;34m.\u001b[0m\u001b[0mget_room_in_direction\u001b[0m\u001b[0;34m(\u001b[0m\u001b[0mdirection\u001b[0m\u001b[0;34m)\u001b[0m\u001b[0;34m.\u001b[0m\u001b[0mid\u001b[0m \u001b[0;32mfor\u001b[0m \u001b[0mdirection\u001b[0m \u001b[0;32min\u001b[0m \u001b[0mcurrent_room\u001b[0m\u001b[0;34m.\u001b[0m\u001b[0mget_exits\u001b[0m\u001b[0;34m(\u001b[0m\u001b[0;34m)\u001b[0m\u001b[0;34m}\u001b[0m\u001b[0;34m\u001b[0m\u001b[0;34m\u001b[0m\u001b[0m\n\u001b[1;32m     59\u001b[0m \u001b[0;34m\u001b[0m\u001b[0m\n\u001b[0;32m---> 60\u001b[0;31m         \u001b[0mmap\u001b[0m\u001b[0;34m.\u001b[0m\u001b[0madd_room\u001b[0m\u001b[0;34m(\u001b[0m\u001b[0mroom_id\u001b[0m\u001b[0;34m=\u001b[0m\u001b[0mcurrent_room\u001b[0m\u001b[0;34m.\u001b[0m\u001b[0mid\u001b[0m\u001b[0;34m,\u001b[0m \u001b[0mneighbors\u001b[0m\u001b[0;34m=\u001b[0m\u001b[0mneighbors\u001b[0m\u001b[0;34m)\u001b[0m\u001b[0;34m\u001b[0m\u001b[0;34m\u001b[0m\u001b[0m\n\u001b[0m\u001b[1;32m     61\u001b[0m \u001b[0;34m\u001b[0m\u001b[0m\n\u001b[1;32m     62\u001b[0m         \u001b[0;32mfor\u001b[0m \u001b[0mroom\u001b[0m \u001b[0;32min\u001b[0m \u001b[0mneighbors\u001b[0m\u001b[0;34m.\u001b[0m\u001b[0mvalues\u001b[0m\u001b[0;34m(\u001b[0m\u001b[0;34m)\u001b[0m\u001b[0;34m:\u001b[0m\u001b[0;34m\u001b[0m\u001b[0;34m\u001b[0m\u001b[0m\n",
      "\u001b[0;32m~/Documents - LSDS Lambda School/LSDS-Computer-Science-CS/Graphs/projects/adventure/map.py\u001b[0m in \u001b[0;36madd_room\u001b[0;34m(self, room_id, neighbors)\u001b[0m\n\u001b[1;32m     30\u001b[0m                 \u001b[0mself\u001b[0m\u001b[0;34m.\u001b[0m\u001b[0mrooms\u001b[0m\u001b[0;34m[\u001b[0m\u001b[0mroom_id\u001b[0m\u001b[0;34m]\u001b[0m \u001b[0;34m=\u001b[0m \u001b[0mneighbors\u001b[0m\u001b[0;34m\u001b[0m\u001b[0;34m\u001b[0m\u001b[0m\n\u001b[1;32m     31\u001b[0m         \u001b[0;32melse\u001b[0m\u001b[0;34m:\u001b[0m\u001b[0;34m\u001b[0m\u001b[0;34m\u001b[0m\u001b[0m\n\u001b[0;32m---> 32\u001b[0;31m             \u001b[0;32mraise\u001b[0m \u001b[0mIndexError\u001b[0m\u001b[0;34m(\u001b[0m\u001b[0;34mf\"Room {room_id} is already in the map!\"\u001b[0m\u001b[0;34m)\u001b[0m\u001b[0;34m\u001b[0m\u001b[0;34m\u001b[0m\u001b[0m\n\u001b[0m\u001b[1;32m     33\u001b[0m \u001b[0;34m\u001b[0m\u001b[0m\n\u001b[1;32m     34\u001b[0m     \u001b[0;32mdef\u001b[0m \u001b[0madd_neighbors\u001b[0m\u001b[0;34m(\u001b[0m\u001b[0mself\u001b[0m\u001b[0;34m,\u001b[0m \u001b[0mroom_id\u001b[0m\u001b[0;34m,\u001b[0m \u001b[0mneighbors\u001b[0m\u001b[0;34m)\u001b[0m\u001b[0;34m:\u001b[0m\u001b[0;34m\u001b[0m\u001b[0;34m\u001b[0m\u001b[0m\n",
      "\u001b[0;31mIndexError\u001b[0m: Room 0 is already in the map!"
     ]
    }
   ],
   "source": [
    "from data_structures import Stack\n",
    "from map import Map\n",
    "\n",
    "# Import libraries, packages, modules, classes/functions:\n",
    "from data_structures import Stack, Queue\n",
    "from numpy import NaN\n",
    "\n",
    "# Fixed constants:\n",
    "directions = [\"n\", \"s\", \"w\", \"e\"]\n",
    "opposite_direction = {\"n\": \"s\", \"s\": \"n\", \"w\": \"e\", \"e\": \"w\"}\n",
    "\n",
    "\n",
    "# -----------------------------------------------------------------------------\n",
    "# TRAVERSAL: Traverse all of the rooms:\n",
    "\n",
    "# Initialize traversal path as empty list (no rooms visited yet):\n",
    "traversal_path = []  # traversal_path = ['n', 'n']\n",
    "\n",
    "# Initialize player, and put player in starting_room:\n",
    "player = Player(world.starting_room)\n",
    "\n",
    "#DFT:\n",
    "\n",
    "map = Map()\n",
    "\n",
    "# Initialize stack:\n",
    "rooms_to_visit = Stack()\n",
    "\n",
    "current_room = player.current_room\n",
    "\n",
    "rooms_to_visit.push(current_room.id)\n",
    "\n",
    "# ---------------------------------------\n",
    "# ??\n",
    "while rooms_to_visit.size() > 0:\n",
    "    # Get nearest room that is not yet visited from stack:\n",
    "    next_room_id = rooms_to_visit.pop()\n",
    "\n",
    "    # If the current room has not already been visited+processed, visit and process it:\n",
    "    if next_room_id not in map.rooms:\n",
    "        # Travel to current room (if not already in that room):\n",
    "        if player.current_room.id is not next_room_id:\n",
    "            for direction in neighbors:\n",
    "                if neighbors[direction] == next_room_id:\n",
    "                    direction = direction\n",
    "            # ??\n",
    "            player.travel(direction=direction, show_rooms=True)\n",
    "\n",
    "            # (How -- 2 different stacks for immediate retracing route vs. rooms to visit??)\n",
    "\n",
    "            # Add the direction you traveled to traversal_path:\n",
    "            traversal_path.append(direction)\n",
    "\n",
    "            # Mark that connection for both rooms (prev and new) with add_edge on our map\n",
    "        \n",
    "        current_room = player.current_room\n",
    "\n",
    "        neighbors = {direction:current_room.get_room_in_direction(direction).id for direction in current_room.get_exits()}\n",
    "\n",
    "        map.add_room(room_id=current_room.id, neighbors=neighbors)\n",
    "\n",
    "        for room in neighbors.values():\n",
    "            rooms_to_visit.push(room)"
   ]
  },
  {
   "cell_type": "code",
   "execution_count": 15,
   "metadata": {
    "tags": []
   },
   "outputs": [
    {
     "output_type": "stream",
     "name": "stdout",
     "text": "Map (graph) of rooms: {0: {'n': 1}}\nStack (LIFO): []\n"
    }
   ],
   "source": [
    "    # print(current_room)\n",
    "    # print(neighbors)\n",
    "    print(map)\n",
    "    print(rooms_to_visit)"
   ]
  },
  {
   "cell_type": "code",
   "execution_count": 45,
   "metadata": {
    "tags": []
   },
   "outputs": [
    {
     "output_type": "stream",
     "name": "stdout",
     "text": "\n-------------------\n\nRoom 1\n\n   (3,6)\n\nExits: [n, s]\n\n\n-------------------\n\nRoom 0\n\n   (3,5)\n\nExits: [n]\n\n"
    }
   ],
   "source": [
    "for step_back in range(-1, -len(traversal_path) - 1, -1):\n",
    "    original_direction = traversal_path[step_back]\n",
    "    reverse_direction = opposite_direction[original_direction]\n",
    "    player.travel(direction=reverse_direction, show_rooms=True)"
   ]
  },
  {
   "cell_type": "code",
   "execution_count": 46,
   "metadata": {},
   "outputs": [
    {
     "output_type": "execute_result",
     "data": {
      "text/plain": "('n', 's')"
     },
     "metadata": {},
     "execution_count": 46
    }
   ],
   "source": [
    "original_direction, reverse_direction"
   ]
  },
  {
   "cell_type": "code",
   "execution_count": 39,
   "metadata": {},
   "outputs": [
    {
     "output_type": "execute_result",
     "data": {
      "text/plain": "'n'"
     },
     "metadata": {},
     "execution_count": 39
    }
   ],
   "source": [
    "traversal_path[-len(traversal_path)]"
   ]
  },
  {
   "cell_type": "code",
   "execution_count": 62,
   "metadata": {},
   "outputs": [
    {
     "output_type": "execute_result",
     "data": {
      "text/plain": "{2}"
     },
     "metadata": {},
     "execution_count": 62
    }
   ],
   "source": [
    "set(world.rooms.keys()) - set(map.rooms.keys())"
   ]
  },
  {
   "cell_type": "code",
   "execution_count": 61,
   "metadata": {},
   "outputs": [
    {
     "output_type": "execute_result",
     "data": {
      "text/plain": "{0, 1}"
     },
     "metadata": {},
     "execution_count": 61
    }
   ],
   "source": []
  },
  {
   "cell_type": "code",
   "execution_count": null,
   "metadata": {},
   "outputs": [],
   "source": []
  }
 ]
}